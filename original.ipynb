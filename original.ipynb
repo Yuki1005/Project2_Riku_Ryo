{
 "cells": [
  {
   "cell_type": "code",
   "execution_count": 47,
   "metadata": {},
   "outputs": [],
   "source": [
    "import PySimpleGUI as sg\n",
    "import pandas as pd\n",
    "\n",
    "sg.theme('Dark Blue 3')\n",
    "\n",
    "radio_dic = {\n",
    "    '-1-': 'a',\n",
    "    '-2-': 'b',\n",
    "    '-3-': 'c',\n",
    "    '-4-': 'd',\n",
    "    '-5-': 'e',\n",
    "    '-6-': 'f',\n",
    "    '-7-': 'g',\n",
    "}\n",
    "num = 0\n",
    "bango = 0\n",
    "name = list(range(1,31,1))\n",
    "# Create radio Buttons by list comprehensions\n",
    "def main(radio_dic):\n",
    "    global num\n",
    "    global bango\n",
    "    layout = []\n",
    "    for i in range(5):\n",
    "        layout.append([sg.Text(\"{}\".format(name[bango]))])\n",
    "        layout.append([sg.Radio(item[1], key=item[0], group_id=\"{}\".format(bango)) for item in radio_dic.items()])\n",
    "        bango += 1\n",
    "    if num == 5:\n",
    "        layout.append([sg.Button('結果発表')])\n",
    "    else:\n",
    "        layout.append([sg.Button('次へ')])\n",
    "    num += 1\n",
    "    return sg.Window(\"メインウィンドウ\", layout, finalize=True)\n",
    "\n",
    "window = main(radio_dic)\n",
    "\n",
    "\n",
    "kekka_list = []\n",
    "while True:\n",
    "    event, values = window.read()\n",
    "\n",
    "    if event is None:\n",
    "        break\n",
    "\n",
    "    elif event == '次へ':\n",
    "        if num == 6:\n",
    "            window.close()\n",
    "        else:\n",
    "            kekka_list.append(values)\n",
    "            window.close()\n",
    "            window = main(radio_dic)\n",
    "    elif event == \"結果発表\":\n",
    "        window.close()\n",
    "        \n",
    "        \n",
    "window.close()"
   ]
  }
 ],
 "metadata": {
  "kernelspec": {
   "display_name": "only-pip",
   "language": "python",
   "name": "python3"
  },
  "language_info": {
   "codemirror_mode": {
    "name": "ipython",
    "version": 3
   },
   "file_extension": ".py",
   "mimetype": "text/x-python",
   "name": "python",
   "nbconvert_exporter": "python",
   "pygments_lexer": "ipython3",
   "version": "3.11.3"
  }
 },
 "nbformat": 4,
 "nbformat_minor": 2
}
